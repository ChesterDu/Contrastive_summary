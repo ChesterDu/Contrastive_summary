{
 "metadata": {
  "language_info": {
   "codemirror_mode": {
    "name": "ipython",
    "version": 3
   },
   "file_extension": ".py",
   "mimetype": "text/x-python",
   "name": "python",
   "nbconvert_exporter": "python",
   "pygments_lexer": "ipython3",
   "version": "3.6.12-final"
  },
  "orig_nbformat": 2,
  "kernelspec": {
   "name": "python3",
   "display_name": "Python 3.6.12 64-bit ('contras_sum': virtualenv)",
   "metadata": {
    "interpreter": {
     "hash": "8cb9d025c05246ef6003f562bd78c39f89a3e3de8b2c6293d42fd24001b7bf88"
    }
   }
  }
 },
 "nbformat": 4,
 "nbformat_minor": 2,
 "cells": [
  {
   "cell_type": "code",
   "execution_count": 1,
   "metadata": {},
   "outputs": [],
   "source": [
    "%load_ext autoreload\n",
    "%autoreload 2\n",
    "%matplotlib inline\n",
    "import os\n",
    "os.chdir(\"../\")"
   ]
  },
  {
   "cell_type": "code",
   "execution_count": 2,
   "metadata": {},
   "outputs": [],
   "source": [
    "class Args:\n",
    "    def __init__(self):\n",
    "        self.toy_size = 1000\n",
    "        self.toy = True\n",
    "        self.max_len = 200\n",
    "        self.batch_size = 8\n",
    "        self.eval_batch_size = 16\n",
    "        self.lr = 1e-5\n",
    "        self.steps = 100000 \n",
    "        self.clip = 1.0\n",
    "        self.t_pos = 0.7\n",
    "        self.t_mix = 0.7\n",
    "        self.trade_off = 0.5\n",
    "        self.lambd = 1\n",
    "        self.log_step = 500\n",
    "        self.log_dir = \"log/scl_mix_training_t_mix_{}_t_pos_{}_lambd_{}.pkl\".format(self.t_mix,self.t_pos,self.lambd)\n",
    "        self.model_dir = \"models/scl_mix_training.pkl\"\n",
    "\n",
    "        self.dataset_pth = \"none\"\n",
    "        self.dataset = \"amazon_2\"\n",
    "        self.percentage = 0.01\n",
    "        self.gpu_ids = 0\n",
    "\n",
    "args = Args()\n"
   ]
  },
  {
   "cell_type": "code",
   "execution_count": 3,
   "metadata": {},
   "outputs": [
    {
     "output_type": "stream",
     "name": "stderr",
     "text": [
      "100%|██████████| 18000/18000 [02:33<00:00, 117.15it/s]\n",
      "100%|██████████| 2000/2000 [00:03<00:00, 514.18it/s]\n"
     ]
    }
   ],
   "source": [
    "import scl_data\n",
    "train_dataset, test_dataset = scl_data.make_dataset(args)"
   ]
  },
  {
   "cell_type": "code",
   "execution_count": 10,
   "metadata": {},
   "outputs": [],
   "source": [
    "torch.save([train_dataset,test_dataset],\"dataset/amazon_polarity/processed_dataset_18K\")"
   ]
  },
  {
   "cell_type": "code",
   "execution_count": 4,
   "metadata": {},
   "outputs": [],
   "source": [
    "from torch.utils.data import TensorDataset, DataLoader\n",
    "train_loader = DataLoader(train_dataset, num_workers=2,batch_size=args.batch_size, shuffle=True, drop_last=True)\n",
    "test_loader = DataLoader(test_dataset, num_workers=2,batch_size=args.batch_size, shuffle=True, drop_last=False)"
   ]
  },
  {
   "cell_type": "code",
   "execution_count": 6,
   "metadata": {},
   "outputs": [
    {
     "output_type": "stream",
     "name": "stderr",
     "text": [
      "Some weights of the model checkpoint at roberta-base were not used when initializing RobertaForSequenceClassification: ['lm_head.bias', 'lm_head.dense.weight', 'lm_head.dense.bias', 'lm_head.layer_norm.weight', 'lm_head.layer_norm.bias', 'lm_head.decoder.weight', 'roberta.pooler.dense.weight', 'roberta.pooler.dense.bias']\n",
      "- This IS expected if you are initializing RobertaForSequenceClassification from the checkpoint of a model trained on another task or with another architecture (e.g. initializing a BertForSequenceClassification model from a BertForPreTraining model).\n",
      "- This IS NOT expected if you are initializing RobertaForSequenceClassification from the checkpoint of a model that you expect to be exactly identical (initializing a BertForSequenceClassification model from a BertForSequenceClassification model).\n",
      "Some weights of RobertaForSequenceClassification were not initialized from the model checkpoint at roberta-base and are newly initialized: ['classifier.dense.weight', 'classifier.dense.bias', 'classifier.out_proj.weight', 'classifier.out_proj.bias']\n",
      "You should probably TRAIN this model on a down-stream task to be able to use it for predictions and inference.\n"
     ]
    }
   ],
   "source": [
    "from scl_model import scl_model\n",
    "from transformers import RobertaForSequenceClassification, RobertaModel, RobertaConfig\n",
    "import torch\n",
    "pretrain_model = RobertaForSequenceClassification.from_pretrained(\"roberta-base\")\n",
    "config = RobertaConfig.from_pretrained(\"roberta-base\")\n",
    "# device = torch.device(args.gpu_ids)\n",
    "device = torch.device(\"cpu\")\n",
    "model = scl_model(config,device,pretrain_model,args)"
   ]
  },
  {
   "cell_type": "code",
   "execution_count": 9,
   "metadata": {},
   "outputs": [],
   "source": [
    "model = model.to(device)\n",
    "for batch in train_loader:\n",
    "    ce_loss_x, ce_loss_s, ce_loss_semi, scl_loss, scl_loss_semi = model(batch)\n",
    "    break"
   ]
  },
  {
   "cell_type": "code",
   "execution_count": 25,
   "metadata": {},
   "outputs": [
    {
     "output_type": "execute_result",
     "data": {
      "text/plain": [
       "tensor(18.7815, device='cuda:0', grad_fn=<AddBackward0>)"
      ]
     },
     "metadata": {},
     "execution_count": 25
    }
   ],
   "source": [
    "scl_loss"
   ]
  },
  {
   "cell_type": "code",
   "execution_count": null,
   "metadata": {},
   "outputs": [],
   "source": [
    "parser = argparse.ArgumentParser()\n",
    "parser.add_argument('--steps', type=int, default=10000)\n",
    "parser.add_argument(\"--toy\",action='store_true')\n",
    "parser.add_argument(\"--local_rank\",type=int, default=0)\n",
    "parser.add_argument(\"--num_workers\",type=int,default=1)\n",
    "parser.add_argument(\"--toy_size\",type=int,default=1000)\n",
    "parser.add_argument(\"--seed\",type=int,default=41)\n",
    "parser.add_argument(\"--gpu_ids\",type=int,default=0)\n",
    "parser.add_argument(\"--batch_size\", type=int, default=8)\n",
    "parser.add_argument(\"--eval_batch_size\", type=int, default=16)\n",
    "parser.add_argument(\"--max_len\",type=int, default=200)\n",
    "parser.add_argument('--lr', type=float, default=1e-5)\n",
    "parser.add_argument('--clip',type=float,default=1)\n",
    "parser.add_argument('--t_pos',type=float,default=0.9)\n",
    "parser.add_argument('--t_mix',type=float,default=0.9)\n",
    "parser.add_argument('--trade_off',type=float,default=0.5)\n",
    "parser.add_argument(\"--lambd\",type=float,default=0.8)\n",
    "\n",
    "\n",
    "parser.add_argument('--log_step',type=int,default=100)\n",
    "parser.add_argument('--log_dir',type=str,default=\"finetune_log.pkl\")\n",
    "parser.add_argument('--model_dir',type=str,default=\"finetune_model.pkl\")\n",
    "\n",
    "parser.add_argument('--dataset_pth',type=str,default=\"none\")\n",
    "parser.add_argument('--dataset',type=str,default=\"amazon_2\")\n",
    "parser.add_argument('--percentage',type=float,default=0.01)\n",
    "\n",
    "parser.add_argument('--loss_mask',type=str,default = \"1,1,1,1,1\")"
   ]
  },
  {
   "cell_type": "code",
   "execution_count": 12,
   "metadata": {},
   "outputs": [
    {
     "output_type": "stream",
     "name": "stdout",
     "text": [
      "Some weights of the model checkpoint at roberta-base were not used when initializing RobertaForSequenceClassification: ['lm_head.bias', 'lm_head.dense.weight', 'lm_head.dense.bias', 'lm_head.layer_norm.weight', 'lm_head.layer_norm.bias', 'lm_head.decoder.weight', 'roberta.pooler.dense.weight', 'roberta.pooler.dense.bias']\n",
      "- This IS expected if you are initializing RobertaForSequenceClassification from the checkpoint of a model trained on another task or with another architecture (e.g. initializing a BertForSequenceClassification model from a BertForPreTraining model).\n",
      "- This IS NOT expected if you are initializing RobertaForSequenceClassification from the checkpoint of a model that you expect to be exactly identical (initializing a BertForSequenceClassification model from a BertForSequenceClassification model).\n",
      "Some weights of RobertaForSequenceClassification were not initialized from the model checkpoint at roberta-base and are newly initialized: ['classifier.dense.weight', 'classifier.dense.bias', 'classifier.out_proj.weight', 'classifier.out_proj.bias']\n",
      "You should probably TRAIN this model on a down-stream task to be able to use it for predictions and inference.\n",
      "  0%|                                                | 0/100000 [00:00<?, ?it/s][1.0, 0.0, 0.0, 0.0, 0.0]\n",
      "  0%|                                    | 20/100000 [00:17<23:49:22,  1.17it/s]^C\n"
     ]
    }
   ],
   "source": [
    "!python main_scl.py --steps 100000 --gpu_ids 0 --loss_mask 1,0.5,0.2,0,0 --dataset_pth dataset/amazon_polarity/processed_dataset_18K --log_step 100 --log_dir log/run_1.pkl --model_dir run_1.pkl"
   ]
  }
 ]
}